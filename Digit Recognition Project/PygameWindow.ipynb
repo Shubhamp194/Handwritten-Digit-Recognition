{
 "cells": [
  {
   "cell_type": "code",
   "execution_count": 1,
   "id": "76ac1b44",
   "metadata": {
    "scrolled": true
   },
   "outputs": [
    {
     "name": "stdout",
     "output_type": "stream",
     "text": [
      "pygame 2.1.2 (SDL 2.0.18, Python 3.9.12)\n",
      "Hello from the pygame community. https://www.pygame.org/contribute.html\n"
     ]
    }
   ],
   "source": [
    "import pygame"
   ]
  },
  {
   "cell_type": "code",
   "execution_count": 2,
   "id": "81101e92",
   "metadata": {},
   "outputs": [],
   "source": [
    "import  sys\n",
    "from pygame.locals import *\n",
    "import numpy as np\n",
    "from keras.models import load_model\n",
    "import cv2\n",
    "\n",
    "WINDOWSIZEX = 640\n",
    "WINDOWSIZEY = 480\n",
    "\n",
    "BOUNDRYINC = 5\n",
    "WHITE = (255,255,255)\n",
    "BLACK = (0,0,0)\n",
    "RED = (255,0,0)\n",
    "\n",
    "IMAGESAVE = False\n",
    "\n",
    "MODEL = load_model(\"KaggelModel3.h5\")\n",
    "\n",
    "LABELS = {0:\"Zero\",1:\"One\",2:\"Two\",3:\"Three\",4:\"Four\",5:\"Five\",6:\"Six\",7:\"Seven\",8:\"Eight\",9:\"Nine\"}\n",
    "\n",
    "#Initialize your pygame\n",
    "pygame.init()\n",
    "\n",
    "FONT = pygame.font.Font('freesansbold.ttf',18)\n",
    "DISPLAYSURF = pygame.display.set_mode([WINDOWSIZEX,WINDOWSIZEY])\n",
    "#WHILE_INT = DISPLAYSURF.mp_rgb(WHITE)\n",
    "pygame.display.set_caption(\"Digit Board\")"
   ]
  },
  {
   "cell_type": "code",
   "execution_count": 3,
   "id": "8c007de3",
   "metadata": {},
   "outputs": [
    {
     "name": "stdout",
     "output_type": "stream",
     "text": [
      "1/1 [==============================] - 0s 192ms/step\n",
      "1/1 [==============================] - 0s 31ms/step\n",
      "1/1 [==============================] - 0s 22ms/step\n",
      "1/1 [==============================] - 0s 20ms/step\n",
      "1/1 [==============================] - 0s 21ms/step\n",
      "1/1 [==============================] - 0s 23ms/step\n",
      "1/1 [==============================] - 0s 21ms/step\n",
      "1/1 [==============================] - 0s 21ms/step\n",
      "1/1 [==============================] - 0s 21ms/step\n",
      "1/1 [==============================] - 0s 24ms/step\n",
      "1/1 [==============================] - 0s 20ms/step\n",
      "1/1 [==============================] - 0s 20ms/step\n",
      "1/1 [==============================] - 0s 62ms/step\n",
      "1/1 [==============================] - 0s 20ms/step\n",
      "1/1 [==============================] - 0s 20ms/step\n",
      "1/1 [==============================] - 0s 22ms/step\n",
      "1/1 [==============================] - 0s 21ms/step\n",
      "1/1 [==============================] - 0s 20ms/step\n",
      "1/1 [==============================] - 0s 21ms/step\n",
      "1/1 [==============================] - 0s 23ms/step\n",
      "1/1 [==============================] - 0s 24ms/step\n",
      "1/1 [==============================] - 0s 21ms/step\n",
      "1/1 [==============================] - 0s 21ms/step\n",
      "1/1 [==============================] - 0s 21ms/step\n",
      "1/1 [==============================] - 0s 20ms/step\n",
      "1/1 [==============================] - 0s 20ms/step\n",
      "1/1 [==============================] - 0s 25ms/step\n"
     ]
    },
    {
     "ename": "IndexError",
     "evalue": "list index out of range",
     "output_type": "error",
     "traceback": [
      "\u001b[1;31m---------------------------------------------------------------------------\u001b[0m",
      "\u001b[1;31mIndexError\u001b[0m                                Traceback (most recent call last)",
      "Input \u001b[1;32mIn [3]\u001b[0m, in \u001b[0;36m<cell line: 9>\u001b[1;34m()\u001b[0m\n\u001b[0;32m     27\u001b[0m number_xcord \u001b[38;5;241m=\u001b[39m \u001b[38;5;28msorted\u001b[39m(number_xcord)\n\u001b[0;32m     28\u001b[0m number_ycord \u001b[38;5;241m=\u001b[39m \u001b[38;5;28msorted\u001b[39m(number_ycord)\n\u001b[1;32m---> 31\u001b[0m rect_min_x , rect_max_x \u001b[38;5;241m=\u001b[39m \u001b[38;5;28mmax\u001b[39m(\u001b[43mnumber_xcord\u001b[49m\u001b[43m[\u001b[49m\u001b[38;5;241;43m0\u001b[39;49m\u001b[43m]\u001b[49m \u001b[38;5;241m-\u001b[39m BOUNDRYINC, \u001b[38;5;241m0\u001b[39m), \u001b[38;5;28mmin\u001b[39m(WINDOWSIZEX, number_xcord[\u001b[38;5;241m-\u001b[39m\u001b[38;5;241m1\u001b[39m]\u001b[38;5;241m+\u001b[39mBOUNDRYINC)\n\u001b[0;32m     32\u001b[0m rect_min_y , rect_max_y \u001b[38;5;241m=\u001b[39m \u001b[38;5;28mmax\u001b[39m(number_ycord[\u001b[38;5;241m0\u001b[39m] \u001b[38;5;241m-\u001b[39m BOUNDRYINC, \u001b[38;5;241m0\u001b[39m), \u001b[38;5;28mmin\u001b[39m(number_ycord[\u001b[38;5;241m-\u001b[39m\u001b[38;5;241m1\u001b[39m]\u001b[38;5;241m+\u001b[39mBOUNDRYINC, WINDOWSIZEX)\n\u001b[0;32m     34\u001b[0m number_xcord \u001b[38;5;241m=\u001b[39m []\n",
      "\u001b[1;31mIndexError\u001b[0m: list index out of range"
     ]
    }
   ],
   "source": [
    "iswriting = False\n",
    "\n",
    "number_xcord = []\n",
    "number_ycord = []\n",
    "imag_cnt = 1\n",
    "PREDICT = True\n",
    "run = True\n",
    "\n",
    "while run:\n",
    "    for event in pygame.event.get():\n",
    "        if event.type == pygame.QUIT:\n",
    "            #pygame.quit()\n",
    "            #sys.exit()\n",
    "            run = False\n",
    "            \n",
    "        if event.type == MOUSEMOTION and iswriting:\n",
    "            xcord, ycord = event.pos\n",
    "            pygame.draw.circle(DISPLAYSURF, WHITE, (xcord,ycord),4, 0)\n",
    "            number_xcord.append(xcord)\n",
    "            number_ycord.append(ycord)\n",
    "            \n",
    "        if event.type == MOUSEBUTTONDOWN:\n",
    "            iswriting = True\n",
    "        \n",
    "        if event.type == MOUSEBUTTONUP:\n",
    "            iswriting = False\n",
    "            number_xcord = sorted(number_xcord)\n",
    "            number_ycord = sorted(number_ycord)\n",
    "            \n",
    "            \n",
    "            rect_min_x , rect_max_x = max(number_xcord[0] - BOUNDRYINC, 0), min(WINDOWSIZEX, number_xcord[-1]+BOUNDRYINC)\n",
    "            rect_min_y , rect_max_y = max(number_ycord[0] - BOUNDRYINC, 0), min(number_ycord[-1]+BOUNDRYINC, WINDOWSIZEX)\n",
    "            \n",
    "            number_xcord = []\n",
    "            number_ycord = []\n",
    "            \n",
    "            img_arr = np.array(pygame.PixelArray(DISPLAYSURF))[rect_min_x:rect_max_x, rect_min_y:rect_max_y].T.astype(np.float32)\n",
    "            \n",
    "            \n",
    "            if IMAGESAVE:\n",
    "                cv2.imwrite(\"image.png\")\n",
    "                imag_cnt +=1\n",
    "                \n",
    "                \n",
    "            if PREDICT:\n",
    "                \n",
    "                image = cv2.resize(img_arr, (28,28))\n",
    "                #image = cv2.pad(image, (10,10), \"constant\", constant_values = 0) #remove comment after testing\n",
    "                image = cv2.resize(image, (28,28))/255\n",
    "                \n",
    "                label = str(LABELS[np.argmax(MODEL.predict(image.reshape(1,28,28,1)))]) #Make Dimension changes here if required \n",
    "\n",
    "                textSurface = FONT.render(label, True, RED, WHITE)\n",
    "                textRecObj = textSurface.get_rect()\n",
    "                textRecObj.left , textRecObj.bottom = rect_min_x, rect_max_y\n",
    "                \n",
    "                DISPLAYSURF.blit(textSurface, textRecObj)\n",
    "                \n",
    "                \n",
    "        if event.type == KEYDOWN:\n",
    "            if event.unicode == 'n':\n",
    "                DISPLAYSURF.fill(BLACK)\n",
    "                \n",
    "    pygame.display.update()\n",
    "pygame.quit() #added after pygame tutorial                \n",
    "       "
   ]
  },
  {
   "cell_type": "code",
   "execution_count": null,
   "id": "48a28419",
   "metadata": {},
   "outputs": [],
   "source": []
  }
 ],
 "metadata": {
  "kernelspec": {
   "display_name": "Python 3 (ipykernel)",
   "language": "python",
   "name": "python3"
  },
  "language_info": {
   "codemirror_mode": {
    "name": "ipython",
    "version": 3
   },
   "file_extension": ".py",
   "mimetype": "text/x-python",
   "name": "python",
   "nbconvert_exporter": "python",
   "pygments_lexer": "ipython3",
   "version": "3.9.12"
  }
 },
 "nbformat": 4,
 "nbformat_minor": 5
}
