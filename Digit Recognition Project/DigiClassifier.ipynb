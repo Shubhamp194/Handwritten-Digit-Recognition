{
 "cells": [
  {
   "cell_type": "code",
   "execution_count": 1,
   "id": "d6daaca8",
   "metadata": {},
   "outputs": [],
   "source": [
    "import matplotlib.pyplot as plt\n",
    "import numpy as np\n",
    "import keras"
   ]
  },
  {
   "cell_type": "code",
   "execution_count": 2,
   "id": "f4aca2e2",
   "metadata": {},
   "outputs": [],
   "source": [
    "from keras.datasets import mnist\n",
    "from keras.models import Sequential\n",
    "from keras.layers import Dense, Conv2D, MaxPool2D, Flatten, Dropout"
   ]
  },
  {
   "cell_type": "markdown",
   "id": "c673398c",
   "metadata": {},
   "source": [
    "## Getting data and preprosessing it"
   ]
  },
  {
   "cell_type": "code",
   "execution_count": 3,
   "id": "0c6f11b4",
   "metadata": {},
   "outputs": [
    {
     "data": {
      "text/plain": [
       "((60000, 28, 28), (60000,), (10000, 28, 28), (10000,))"
      ]
     },
     "execution_count": 3,
     "metadata": {},
     "output_type": "execute_result"
    }
   ],
   "source": [
    "(X_train, y_train), (X_test, y_test) = mnist.load_data()\n",
    "X_train.shape , y_train.shape , X_test.shape , y_test.shape"
   ]
  },
  {
   "cell_type": "code",
   "execution_count": 4,
   "id": "863fe8b9",
   "metadata": {},
   "outputs": [],
   "source": [
    "def plot_input_img(i):\n",
    "    plt.imshow(X_train[i], cmap = \"binary\")\n",
    "    plt.title(y_train[i])\n",
    "    plt.axis(\"off\")\n",
    "    plt.show()"
   ]
  },
  {
   "cell_type": "code",
   "execution_count": 5,
   "id": "f30eab9c",
   "metadata": {},
   "outputs": [],
   "source": [
    "#for i in range(10):\n",
    " #   plot_input_img(i)"
   ]
  },
  {
   "cell_type": "code",
   "execution_count": 6,
   "id": "e9db6c8b",
   "metadata": {},
   "outputs": [],
   "source": [
    "# Preprosessing the images\n",
    "# Normalizing the images to [0,1] range\n",
    "X_train = X_train.astype(np.float32)/255\n",
    "X_test = X_test.astype(np.float32)/255\n",
    "\n",
    "# Reshaping / Expanding the dimensions of images to (28,28,1)\n",
    "X_train = np.expand_dims(X_train,-1)\n",
    "X_test = np.expand_dims(X_test,-1)"
   ]
  },
  {
   "cell_type": "code",
   "execution_count": 7,
   "id": "79d3450d",
   "metadata": {},
   "outputs": [
    {
     "data": {
      "text/plain": [
       "(60000, 28, 28, 1)"
      ]
     },
     "execution_count": 7,
     "metadata": {},
     "output_type": "execute_result"
    }
   ],
   "source": [
    "X_train.shape"
   ]
  },
  {
   "cell_type": "code",
   "execution_count": 8,
   "id": "f0cb5b74",
   "metadata": {},
   "outputs": [],
   "source": [
    "## Converting classes to one hot vector\n",
    "y_train = keras.utils.to_categorical(y_train)\n",
    "y_test = keras.utils.to_categorical(y_test)"
   ]
  },
  {
   "cell_type": "code",
   "execution_count": 9,
   "id": "b091ce96",
   "metadata": {},
   "outputs": [
    {
     "data": {
      "text/plain": [
       "'model = Sequential()\\n\\nmodel.add(Conv2D(32, (3,3), input_shape = (28,28,1), activation= \"relu\"))\\nmodel.add(MaxPool2D((2,2)))\\n\\nmodel.add(Conv2D(64, (3,3), activation= \"relu\"))\\nmodel.add(MaxPool2D((2,2)))\\n\\nmodel.add(Flatten())\\n\\nmodel.add(Dropout(0.25))\\n\\nmodel.add(Dense(10, activation= \"softmax\"))'"
      ]
     },
     "execution_count": 9,
     "metadata": {},
     "output_type": "execute_result"
    }
   ],
   "source": [
    "# BUILD CONVOLUTIONAL NEURAL NETWORKS\n",
    "nets = 3\n",
    "model = [0] *nets\n",
    "\n",
    "for j in range(3):\n",
    "    model[j] = Sequential()\n",
    "    model[j].add(Conv2D(24,kernel_size=5,padding='same',activation='relu',\n",
    "            input_shape=(28,28,1)))\n",
    "    model[j].add(MaxPool2D())\n",
    "    if j>0:\n",
    "        model[j].add(Conv2D(48,kernel_size=5,padding='same',activation='relu'))\n",
    "        model[j].add(MaxPool2D())\n",
    "    if j>1:\n",
    "        model[j].add(Conv2D(64,kernel_size=5,padding='same',activation='relu'))\n",
    "        model[j].add(MaxPool2D(padding='same'))\n",
    "    model[j].add(Flatten())\n",
    "    model[j].add(Dense(256, activation='relu'))\n",
    "    model[j].add(Dense(10, activation='softmax'))\n",
    "    model[j].compile(optimizer=\"adam\", loss=\"categorical_crossentropy\", metrics=[\"accuracy\"])\n",
    "\n",
    "\n",
    "\n",
    "\n",
    "'''model = Sequential()\n",
    "\n",
    "model.add(Conv2D(32, (3,3), input_shape = (28,28,1), activation= \"relu\"))\n",
    "model.add(MaxPool2D((2,2)))\n",
    "\n",
    "model.add(Conv2D(64, (3,3), activation= \"relu\"))\n",
    "model.add(MaxPool2D((2,2)))\n",
    "\n",
    "model.add(Flatten())\n",
    "\n",
    "model.add(Dropout(0.25))\n",
    "\n",
    "model.add(Dense(10, activation= \"softmax\"))'''"
   ]
  },
  {
   "cell_type": "code",
   "execution_count": 10,
   "id": "d7c13d61",
   "metadata": {
    "scrolled": false
   },
   "outputs": [
    {
     "name": "stdout",
     "output_type": "stream",
     "text": [
      "Model: \"sequential_2\"\n",
      "_________________________________________________________________\n",
      " Layer (type)                Output Shape              Param #   \n",
      "=================================================================\n",
      " conv2d_3 (Conv2D)           (None, 28, 28, 24)        624       \n",
      "                                                                 \n",
      " max_pooling2d_3 (MaxPooling  (None, 14, 14, 24)       0         \n",
      " 2D)                                                             \n",
      "                                                                 \n",
      " conv2d_4 (Conv2D)           (None, 14, 14, 48)        28848     \n",
      "                                                                 \n",
      " max_pooling2d_4 (MaxPooling  (None, 7, 7, 48)         0         \n",
      " 2D)                                                             \n",
      "                                                                 \n",
      " conv2d_5 (Conv2D)           (None, 7, 7, 64)          76864     \n",
      "                                                                 \n",
      " max_pooling2d_5 (MaxPooling  (None, 4, 4, 64)         0         \n",
      " 2D)                                                             \n",
      "                                                                 \n",
      " flatten_2 (Flatten)         (None, 1024)              0         \n",
      "                                                                 \n",
      " dense_4 (Dense)             (None, 256)               262400    \n",
      "                                                                 \n",
      " dense_5 (Dense)             (None, 10)                2570      \n",
      "                                                                 \n",
      "=================================================================\n",
      "Total params: 371,306\n",
      "Trainable params: 371,306\n",
      "Non-trainable params: 0\n",
      "_________________________________________________________________\n"
     ]
    }
   ],
   "source": [
    "model[2].summary()"
   ]
  },
  {
   "cell_type": "code",
   "execution_count": 11,
   "id": "224d14db",
   "metadata": {},
   "outputs": [],
   "source": [
    "model[2].compile(optimizer= \"adam\", loss = keras.losses.categorical_crossentropy, metrics=[\"accuracy\"])"
   ]
  },
  {
   "cell_type": "code",
   "execution_count": 12,
   "id": "ea0d2ebe",
   "metadata": {},
   "outputs": [],
   "source": [
    "# callbacks\n",
    "\n",
    "from keras.callbacks import EarlyStopping, ModelCheckpoint\n",
    "\n",
    "# Earlystopping\n",
    "\n",
    "es = EarlyStopping(monitor='val_acc', min_delta=0.01, patience=4, verbose=1)\n",
    "\n",
    "# Model checkpoint\n",
    "\n",
    "mc = ModelCheckpoint(\"./bestmodel.h5\", monitor=\"val_acc\", verbose=1, save_best_only=True)\n",
    "\n",
    "cb = [es,mc]"
   ]
  },
  {
   "cell_type": "markdown",
   "id": "a7261dc8",
   "metadata": {},
   "source": [
    "# Model Training"
   ]
  },
  {
   "cell_type": "code",
   "execution_count": 13,
   "id": "829ff9af",
   "metadata": {},
   "outputs": [
    {
     "name": "stdout",
     "output_type": "stream",
     "text": [
      "Epoch 1/5\n",
      "1313/1313 [==============================] - 114s 85ms/step - loss: 0.1393 - accuracy: 0.9569 - val_loss: 0.0650 - val_accuracy: 0.9794\n",
      "Epoch 2/5\n",
      "1313/1313 [==============================] - 77s 59ms/step - loss: 0.0438 - accuracy: 0.9863 - val_loss: 0.0433 - val_accuracy: 0.9872\n",
      "Epoch 3/5\n",
      "1313/1313 [==============================] - 77s 59ms/step - loss: 0.0291 - accuracy: 0.9910 - val_loss: 0.0474 - val_accuracy: 0.9864\n",
      "Epoch 4/5\n",
      "1313/1313 [==============================] - 77s 58ms/step - loss: 0.0222 - accuracy: 0.9929 - val_loss: 0.0481 - val_accuracy: 0.9866\n",
      "Epoch 5/5\n",
      "1313/1313 [==============================] - 77s 59ms/step - loss: 0.0187 - accuracy: 0.9940 - val_loss: 0.0462 - val_accuracy: 0.9880\n"
     ]
    }
   ],
   "source": [
    "his = model[2].fit(X_train,y_train, epochs=5, validation_split=0.3)"
   ]
  },
  {
   "cell_type": "code",
   "execution_count": 14,
   "id": "9e53126f",
   "metadata": {},
   "outputs": [],
   "source": [
    "model[2].save(\"KaggelModel3.h5\")"
   ]
  }
 ],
 "metadata": {
  "kernelspec": {
   "display_name": "Python 3 (ipykernel)",
   "language": "python",
   "name": "python3"
  },
  "language_info": {
   "codemirror_mode": {
    "name": "ipython",
    "version": 3
   },
   "file_extension": ".py",
   "mimetype": "text/x-python",
   "name": "python",
   "nbconvert_exporter": "python",
   "pygments_lexer": "ipython3",
   "version": "3.9.12"
  }
 },
 "nbformat": 4,
 "nbformat_minor": 5
}
